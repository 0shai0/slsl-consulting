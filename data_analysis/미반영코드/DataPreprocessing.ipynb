{
 "cells": [
  {
   "cell_type": "markdown",
   "id": "58d5abbf-9ebc-4e8e-b6ac-ac33397099a1",
   "metadata": {},
   "source": [
    "## selected_kma.csv 만들기"
   ]
  },
  {
   "cell_type": "code",
   "execution_count": 1,
   "id": "dc7ca013-cb25-452e-a97f-4ea1f2a2f579",
   "metadata": {},
   "outputs": [],
   "source": [
    "# 데이터프레임이 출력하는 모든 행과 모든 열 출력\n",
    "pd.set_option('display.max_rows',None)\n",
    "pd.set_option('display.max_columns',None)\n",
    "# 데이터프레임이 출력하는 행과 열 옵션 원래대로 되돌리기\n",
    "pd.options.display.max_rows = 60\n",
    "pd.options.display.max_columns = 20\n",
    "# (Numpy) array 출력 시 생략하지 않고 출력\n",
    "np.set_printoptions(threshold=np.inf)\n",
    "# (Numpy) array 원래 옵션\n",
    "np.set_printoptions(threshold=1000)"
   ]
  },
  {
   "cell_type": "code",
   "execution_count": 2,
   "id": "97ad1c95-7f97-463a-9a9d-2504eb73a611",
   "metadata": {},
   "outputs": [],
   "source": [
    "import pandas as pd\n",
    "import numpy as np\n",
    "import datetime\n",
    "\n",
    "# {한글 지역명: [STN(발전소 지점별 번호)]}\n",
    "Location_STN = {\n",
    "    '강원': [90, 93, 95, 100, 101, 104, 105, 106, 114, 121, 211, 212, 216, 217], \n",
    "    '경기': [98, 99, 119, 202, 203], \n",
    "    '경남': [155, 162, 192, 253, 255, 257, 263, 264, 284, 285, 288, 289, 294, 295], \n",
    "    '경북': [115, 130, 136, 137, 138, 271, 272, 273, 276, 277, 278, 279, 281, 283], \n",
    "    '광주': [156], \n",
    "    '대구': [143], \n",
    "    '대전': [133], \n",
    "    '부산': [159, 296], \n",
    "    '서울': [108], \n",
    "    '세종': [239], \n",
    "    '울산': [152], \n",
    "    '인천': [102, 112, 201], \n",
    "    '전남': [165, 168, 169, 170, 174, 252, 258, 259, 260, 261, 262, 266, 268], \n",
    "    '전북': [140, 146, 172, 243, 244, 245, 247, 248, 251, 254], \n",
    "    '제주': [184, 185, 188, 189], \n",
    "    '충남': [129, 177, 232, 235, 236, 238], \n",
    "    '충북': [127, 131, 135, 181, 221, 226]\n",
    "}\n",
    "\n",
    "# STN_Location = {STN(발전소 지점별 번호) : '지역'} ex. {90 : '강원', 98 : '경기'}\n",
    "STN_Location={}\n",
    "for key in Location_STN.keys():\n",
    "    for value in Location_STN[key]:\n",
    "        STN_Location[value]=key\n",
    "\n",
    "df=pd.read_csv('kma.csv')\n",
    "df.insert(1,'Location',[STN_Location[val] for val in df['STN']])\n",
    "# df['YYMMDDHHMI'] = pd.to_datetime(df['YYMMDDHHMI'], format='%Y%m%d%H%M%S') # datetime으로 타입 변경(불러오면 항상 데이터 타입 변경해줘야 적용이 됨)\n",
    "\n",
    "df_ = df.loc[:, ['Location','YYMMDDHHMI', 'STN', 'PA', 'TA', 'HM', 'PV', 'RN', 'RN.1', 'RN.2', 'RN.3', 'SD', 'SD.1', 'SD.2', 'CA', 'CA.1', 'CH', 'VS', 'SS', 'SI', 'TS']]\n",
    "df_.to_csv('selected_kma.csv',index=False)"
   ]
  },
  {
   "cell_type": "markdown",
   "id": "0fd820b2-bbb8-4c09-86c3-a109b80b5a75",
   "metadata": {},
   "source": [
    "## 데이터 전처리"
   ]
  },
  {
   "cell_type": "code",
   "execution_count": 518,
   "id": "2f71dab4-1483-4bd2-8182-0c084e366d5f",
   "metadata": {},
   "outputs": [],
   "source": [
    "import pandas as pd\n",
    "import numpy as np\n",
    "import datetime\n",
    "import json"
   ]
  },
  {
   "cell_type": "code",
   "execution_count": 461,
   "id": "9fa27415-6554-4740-9b99-74f3eb1b660b",
   "metadata": {},
   "outputs": [
    {
     "name": "stdout",
     "output_type": "stream",
     "text": [
      "Empty DataFrame\n",
      "Columns: [Location, YYMMDDHHMI, STN, PA, TA, HM, PV, RN, RN.1, RN.2, RN.3, SD, SD.1, SD.2, CA, CA.1, CH, VS, SS, SI, TS]\n",
      "Index: []\n",
      "\n",
      "[0 rows x 21 columns]\n"
     ]
    }
   ],
   "source": [
    "df=pd.read_csv('selected_kma.csv')\n",
    "df['YYMMDDHHMI'] = pd.to_datetime(df['YYMMDDHHMI'], format='%Y-%m-%d %H:%M:%S')\n",
    "print(df[df['YYMMDDHHMI']>datetime.datetime(2023,6,1,0,0)])\n",
    "df=df.rename(columns={'Location':'LOC', 'YYMMDDHHMI':'TM', 'RN.1':'RN_DAY', 'RN.2':'RN_JUN', 'RN.3':'RN_INT', 'SD' : 'SD_HR3', 'SD.1': 'SD_DAY', 'SD.2':'SD_TOT', 'CA':'CA_TOT', 'CA.1':'CA_MID', 'CH':'CH_MIN'})\n",
    "df = df.drop(columns=['RN_INT'])"
   ]
  },
  {
   "cell_type": "code",
   "execution_count": 462,
   "id": "74456846-a87b-4c88-8ba5-35935612635b",
   "metadata": {},
   "outputs": [],
   "source": [
    "# 지역별로 데이터프레임 나누기\n",
    "# 지역별로 결측치 집어넣기\n",
    "local_dic= {'강원': None, '경기': None, '경남': None, '경북': None, '광주': None, '대구': None, '대전': None, '부산': None, '서울': None, '세종': None, '울산': None, '인천': None, '전남': None, '전북': None, '제주': None, '충남': None, '충북': None}\n",
    "\n",
    "for location in local_dic.keys():\n",
    "    local_dic[location]=df[df['LOC']==location]\n",
    "\n",
    "for local in local_dic.values():\n",
    "    local.loc[local['PA']<0.0,'PA']=np.mean(local[local['PA']>0.0]['PA'])\n",
    "    local.loc[local['TA']<-30.0,'TA'] = np.mean(local[local['TA']>-30.0]['TA'])\n",
    "    local.loc[local['HM']<0.0,'HM'] = np.mean(local[local['HM']>0.0]['HM'])\n",
    "    local.loc[local['PV']<0.0,'PV'] = np.mean(local[local['PV']>0.0]['PV'])\n",
    "    \n",
    "    local.loc[local['RN']<0.0,'RN'] = 0.0\n",
    "    local.loc[local['RN_DAY']<0.0,'RN_DAY'] = 0.0\n",
    "    local.loc[local['RN_JUN']<0.0,'RN_JUN'] = 0.0\n",
    "    \n",
    "    local.loc[local['SD_HR3']<0.0,'SD_HR3'] = 0.0\n",
    "    local.loc[local['SD_TOT']<0.0,'SD_TOT'] = 0.0\n",
    "    local.loc[local['SD_DAY']<0.0,'SD_DAY'] = 0.0\n",
    "    \n",
    "    local.loc[local['CA_TOT']<0,'CA_TOT'] = int(np.mean(local[local['CA_TOT']>0]['CA_TOT']))\n",
    "    local.loc[local['CA_MID']<0,'CA_MID'] = int(np.mean(local[local['CA_MID']>0]['CA_MID']))\n",
    "    local.loc[local['CH_MIN']<0,'CH_MIN'] = int(np.mean(local[local['CH_MIN']>0]['CH_MIN']))\n",
    "    local.loc[local['VS']<0,'VS'] = int(np.mean(local[local['VS']>0]['VS']))\n",
    "    local.loc[local['SS']<0.0,'SS'] = 0.0\n",
    "    local.loc[local['SI']<0.0,'SI'] = 0.0"
   ]
  },
  {
   "cell_type": "code",
   "execution_count": 522,
   "id": "269cfac5-1708-4a13-a031-97fecb544bfa",
   "metadata": {
    "scrolled": true
   },
   "outputs": [
    {
     "name": "stderr",
     "output_type": "stream",
     "text": [
      "C:\\Users\\user\\AppData\\Local\\Temp\\ipykernel_22620\\1437131952.py:29: FutureWarning: The behavior of DataFrame concatenation with empty or all-NA entries is deprecated. In a future version, this will no longer exclude empty or all-NA columns when determining the result dtypes. To retain the old behavior, exclude the relevant entries before the concat operation.\n",
      "  temp_df=pd.concat([temp_df, temp_tm], axis=0, ignore_index=True)\n",
      "C:\\Users\\user\\AppData\\Local\\Temp\\ipykernel_22620\\1437131952.py:29: FutureWarning: The behavior of DataFrame concatenation with empty or all-NA entries is deprecated. In a future version, this will no longer exclude empty or all-NA columns when determining the result dtypes. To retain the old behavior, exclude the relevant entries before the concat operation.\n",
      "  temp_df=pd.concat([temp_df, temp_tm], axis=0, ignore_index=True)\n"
     ]
    }
   ],
   "source": [
    "# for 지역 돌리기:\n",
    "\n",
    "#     temp_df = None\n",
    "#     for 시간 돌리기:\n",
    "#         if 시간있을때: # for i in alltime:\n",
    "#             df1 = pd.Series(data={'LOC':'강원', 'TM':datetime.datetime(2020,1,1,0,0)})\n",
    "#             df2 = np.mean(temp.loc[temp['TM']==datetime.datetime(2020,1,1,0,0), 'PA':], axis=0)\n",
    "#             temp = pd.concat([df1,df2])\n",
    "#             temp_df = pd.concat(temp_df,temp)\n",
    "#         else:\n",
    "#             그 시간 nan 채우기\n",
    "#         ['TM']j=[nan,nan]\n",
    "#     지역데이터프레임 = temp_df"
   ]
  },
  {
   "cell_type": "code",
   "execution_count": 542,
   "id": "7db35811-d96e-4c36-8bd2-3efe1384398d",
   "metadata": {},
   "outputs": [
    {
     "name": "stderr",
     "output_type": "stream",
     "text": [
      "C:\\Users\\user\\AppData\\Local\\Temp\\ipykernel_22620\\305810174.py:18: FutureWarning: The behavior of DataFrame concatenation with empty or all-NA entries is deprecated. In a future version, this will no longer exclude empty or all-NA columns when determining the result dtypes. To retain the old behavior, exclude the relevant entries before the concat operation.\n",
      "  temp_df = pd.concat([temp_df, temp_tm], axis=0, ignore_index=True)\n",
      "C:\\Users\\user\\AppData\\Local\\Temp\\ipykernel_22620\\305810174.py:18: FutureWarning: The behavior of DataFrame concatenation with empty or all-NA entries is deprecated. In a future version, this will no longer exclude empty or all-NA columns when determining the result dtypes. To retain the old behavior, exclude the relevant entries before the concat operation.\n",
      "  temp_df = pd.concat([temp_df, temp_tm], axis=0, ignore_index=True)\n",
      "C:\\Users\\user\\AppData\\Local\\Temp\\ipykernel_22620\\305810174.py:18: FutureWarning: The behavior of DataFrame concatenation with empty or all-NA entries is deprecated. In a future version, this will no longer exclude empty or all-NA columns when determining the result dtypes. To retain the old behavior, exclude the relevant entries before the concat operation.\n",
      "  temp_df = pd.concat([temp_df, temp_tm], axis=0, ignore_index=True)\n",
      "C:\\Users\\user\\AppData\\Local\\Temp\\ipykernel_22620\\305810174.py:18: FutureWarning: The behavior of DataFrame concatenation with empty or all-NA entries is deprecated. In a future version, this will no longer exclude empty or all-NA columns when determining the result dtypes. To retain the old behavior, exclude the relevant entries before the concat operation.\n",
      "  temp_df = pd.concat([temp_df, temp_tm], axis=0, ignore_index=True)\n",
      "C:\\Users\\user\\AppData\\Local\\Temp\\ipykernel_22620\\305810174.py:18: FutureWarning: The behavior of DataFrame concatenation with empty or all-NA entries is deprecated. In a future version, this will no longer exclude empty or all-NA columns when determining the result dtypes. To retain the old behavior, exclude the relevant entries before the concat operation.\n",
      "  temp_df = pd.concat([temp_df, temp_tm], axis=0, ignore_index=True)\n",
      "C:\\Users\\user\\AppData\\Local\\Temp\\ipykernel_22620\\305810174.py:18: FutureWarning: The behavior of DataFrame concatenation with empty or all-NA entries is deprecated. In a future version, this will no longer exclude empty or all-NA columns when determining the result dtypes. To retain the old behavior, exclude the relevant entries before the concat operation.\n",
      "  temp_df = pd.concat([temp_df, temp_tm], axis=0, ignore_index=True)\n",
      "C:\\Users\\user\\AppData\\Local\\Temp\\ipykernel_22620\\305810174.py:18: FutureWarning: The behavior of DataFrame concatenation with empty or all-NA entries is deprecated. In a future version, this will no longer exclude empty or all-NA columns when determining the result dtypes. To retain the old behavior, exclude the relevant entries before the concat operation.\n",
      "  temp_df = pd.concat([temp_df, temp_tm], axis=0, ignore_index=True)\n",
      "C:\\Users\\user\\AppData\\Local\\Temp\\ipykernel_22620\\305810174.py:18: FutureWarning: The behavior of DataFrame concatenation with empty or all-NA entries is deprecated. In a future version, this will no longer exclude empty or all-NA columns when determining the result dtypes. To retain the old behavior, exclude the relevant entries before the concat operation.\n",
      "  temp_df = pd.concat([temp_df, temp_tm], axis=0, ignore_index=True)\n",
      "C:\\Users\\user\\AppData\\Local\\Temp\\ipykernel_22620\\305810174.py:18: FutureWarning: The behavior of DataFrame concatenation with empty or all-NA entries is deprecated. In a future version, this will no longer exclude empty or all-NA columns when determining the result dtypes. To retain the old behavior, exclude the relevant entries before the concat operation.\n",
      "  temp_df = pd.concat([temp_df, temp_tm], axis=0, ignore_index=True)\n",
      "C:\\Users\\user\\AppData\\Local\\Temp\\ipykernel_22620\\305810174.py:18: FutureWarning: The behavior of DataFrame concatenation with empty or all-NA entries is deprecated. In a future version, this will no longer exclude empty or all-NA columns when determining the result dtypes. To retain the old behavior, exclude the relevant entries before the concat operation.\n",
      "  temp_df = pd.concat([temp_df, temp_tm], axis=0, ignore_index=True)\n",
      "C:\\Users\\user\\AppData\\Local\\Temp\\ipykernel_22620\\305810174.py:18: FutureWarning: The behavior of DataFrame concatenation with empty or all-NA entries is deprecated. In a future version, this will no longer exclude empty or all-NA columns when determining the result dtypes. To retain the old behavior, exclude the relevant entries before the concat operation.\n",
      "  temp_df = pd.concat([temp_df, temp_tm], axis=0, ignore_index=True)\n",
      "C:\\Users\\user\\AppData\\Local\\Temp\\ipykernel_22620\\305810174.py:18: FutureWarning: The behavior of DataFrame concatenation with empty or all-NA entries is deprecated. In a future version, this will no longer exclude empty or all-NA columns when determining the result dtypes. To retain the old behavior, exclude the relevant entries before the concat operation.\n",
      "  temp_df = pd.concat([temp_df, temp_tm], axis=0, ignore_index=True)\n",
      "C:\\Users\\user\\AppData\\Local\\Temp\\ipykernel_22620\\305810174.py:18: FutureWarning: The behavior of DataFrame concatenation with empty or all-NA entries is deprecated. In a future version, this will no longer exclude empty or all-NA columns when determining the result dtypes. To retain the old behavior, exclude the relevant entries before the concat operation.\n",
      "  temp_df = pd.concat([temp_df, temp_tm], axis=0, ignore_index=True)\n",
      "C:\\Users\\user\\AppData\\Local\\Temp\\ipykernel_22620\\305810174.py:18: FutureWarning: The behavior of DataFrame concatenation with empty or all-NA entries is deprecated. In a future version, this will no longer exclude empty or all-NA columns when determining the result dtypes. To retain the old behavior, exclude the relevant entries before the concat operation.\n",
      "  temp_df = pd.concat([temp_df, temp_tm], axis=0, ignore_index=True)\n",
      "C:\\Users\\user\\AppData\\Local\\Temp\\ipykernel_22620\\305810174.py:18: FutureWarning: The behavior of DataFrame concatenation with empty or all-NA entries is deprecated. In a future version, this will no longer exclude empty or all-NA columns when determining the result dtypes. To retain the old behavior, exclude the relevant entries before the concat operation.\n",
      "  temp_df = pd.concat([temp_df, temp_tm], axis=0, ignore_index=True)\n",
      "C:\\Users\\user\\AppData\\Local\\Temp\\ipykernel_22620\\305810174.py:18: FutureWarning: The behavior of DataFrame concatenation with empty or all-NA entries is deprecated. In a future version, this will no longer exclude empty or all-NA columns when determining the result dtypes. To retain the old behavior, exclude the relevant entries before the concat operation.\n",
      "  temp_df = pd.concat([temp_df, temp_tm], axis=0, ignore_index=True)\n",
      "C:\\Users\\user\\AppData\\Local\\Temp\\ipykernel_22620\\305810174.py:18: FutureWarning: The behavior of DataFrame concatenation with empty or all-NA entries is deprecated. In a future version, this will no longer exclude empty or all-NA columns when determining the result dtypes. To retain the old behavior, exclude the relevant entries before the concat operation.\n",
      "  temp_df = pd.concat([temp_df, temp_tm], axis=0, ignore_index=True)\n"
     ]
    }
   ],
   "source": [
    "# 총 시간별 데이터수 29928 = 1247일 * 24\n",
    "\n",
    "temp_all = {'강원': None, '경기': None, '경남': None, '경북': None, '광주': None, '대구': None, '대전': None, '부산': None, '서울': None, '세종': None, '울산': None, '인천': None, '전남': None, '전북': None, '제주': None, '충남': None, '충북': None}\n",
    "\n",
    "for k in temp_all.keys():\n",
    "    temp_LOC = local_dic[k].copy()\n",
    "    temp_df = pd.DataFrame(\n",
    "        columns=['LOC', 'TM', 'PA', 'TA', 'HM', 'PV', 'RN', 'RN_DAY', 'RN_JUN', 'SD_HR3', 'SD_DAY', 'SD_TOT', 'CA_TOT', 'CA_MID', 'CH_MIN', 'VS', 'SS', 'SI','TS']\n",
    "    )\n",
    "    \n",
    "    for 시간 in alltime:\n",
    "        df1 = pd.DataFrame(data=[{'LOC': k, 'TM': 시간}])\n",
    "        \n",
    "        if 시간 in temp_LOC['TM'].unique():\n",
    "            df2 = pd.DataFrame(data=[np.mean(temp_LOC.loc[temp_LOC['TM'] == 시간, 'PA':], axis=0)])\n",
    "            temp_tm = pd.concat([df1, df2], axis=1)\n",
    "        else:\n",
    "            temp_tm = df1\n",
    "        \n",
    "        temp_df = pd.concat([temp_df, temp_tm], axis=0, ignore_index=True)\n",
    "    \n",
    "    # 'TM' 열을 문자열로 변환하여 딕셔너리에 저장\n",
    "    temp_df['TM'] = temp_df['TM'].astype(str)\n",
    "    temp_all[k] = temp_df.to_dict(orient='records')\n",
    "\n",
    "# temp_all.json 저장\n",
    "with open('temp_all.json', 'w') as file:\n",
    "    json.dump(temp_all, file)"
   ]
  },
  {
   "cell_type": "code",
   "execution_count": 543,
   "id": "817b24d1-d2d6-458c-83b5-1d13883fbedc",
   "metadata": {
    "scrolled": true
   },
   "outputs": [],
   "source": [
    "with open('temp_all.json', 'r') as file:\n",
    "    all=json.load(file)"
   ]
  }
 ],
 "metadata": {
  "kernelspec": {
   "display_name": "Python 3 (ipykernel)",
   "language": "python",
   "name": "python3"
  },
  "language_info": {
   "codemirror_mode": {
    "name": "ipython",
    "version": 3
   },
   "file_extension": ".py",
   "mimetype": "text/x-python",
   "name": "python",
   "nbconvert_exporter": "python",
   "pygments_lexer": "ipython3",
   "version": "3.11.7"
  }
 },
 "nbformat": 4,
 "nbformat_minor": 5
}
