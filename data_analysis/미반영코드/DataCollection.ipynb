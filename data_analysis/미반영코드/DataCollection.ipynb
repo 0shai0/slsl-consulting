{
 "cells": [
  {
   "cell_type": "code",
   "execution_count": 1,
   "id": "e0eae701-8486-49dd-9de0-80570309ae6e",
   "metadata": {},
   "outputs": [],
   "source": [
    "import requests\n",
    "import json\n",
    "import matplotlib.pyplot as plt\n",
    "plt.rcParams['font.family'] ='Malgun Gothic'\n",
    "plt.rcParams['axes.unicode_minus'] =False\n",
    "\n",
    "import pandas as pd\n",
    "from io import StringIO\n",
    "import datetime as dt"
   ]
  },
  {
   "cell_type": "code",
   "execution_count": 2,
   "id": "8f4739db-0c39-408b-93d2-4e25f254655f",
   "metadata": {},
   "outputs": [],
   "source": [
    "# \\n으로 리스트 만들기\n",
    "# list_n = r.text.split('\\n')\n",
    "# columns=list_n[2].split()[1:]\n",
    "columns=['YYMMDDHHMI', 'STN', 'WD', 'WS', 'GST', 'GST', 'GST', 'PA', 'PS', 'PT', 'PR', 'TA', 'TD', 'HM', 'PV', 'RN', 'RN', 'RN', 'RN', 'SD', 'SD', 'SD', 'WC', 'WP', 'WW', 'CA', 'CA', 'CH', 'CT', 'CT', 'CT', 'CT', 'VS', 'SS', 'SI', 'ST', 'TS', 'TE', 'TE', 'TE', 'TE', 'ST', 'WH', 'BF', 'IR', 'IX']"
   ]
  },
  {
   "cell_type": "code",
   "execution_count": 5,
   "id": "e21fd38e-18de-44ed-b570-70ea458daefa",
   "metadata": {},
   "outputs": [],
   "source": [
    "# 기상청 api - 한 화면당 30일 출력 가능\n",
    "url = 'https://apihub.kma.go.kr/api/typ01/url/kma_sfctm3.php'\n",
    "key = 'xHhvuCsiSD-4b7grIpg_tQ'\n",
    "start_time=dt.datetime(2020,1,1,0,0)\n",
    "end_time=start_time+dt.timedelta(days=30)\n",
    "\n",
    "raw_data=[]\n",
    "while True:\n",
    "    tm1 = start_time.strftime('%Y%m%d%H%M')\n",
    "    tm2 = end_time.strftime('%Y%m%d%H%M')\n",
    "    para = {\n",
    "    'tm1' : tm1, 'tm2': tm2, 'stn':0, 'help': 0, 'authKey':key\n",
    "    }\n",
    "\n",
    "    r=requests.get(url, params=para)\n",
    "\n",
    "    # \\n으로 리스트 만들기\n",
    "    list_n = r.text.split('\\n')\n",
    "    \n",
    "    # 필요 없는 행을 제외한 데이터 부분\n",
    "    data_n=list_n[4:-2]\n",
    "    \n",
    "    for i, v in enumerate(data_n):\n",
    "        tmp=data_n[i].split()\n",
    "        raw_data.append(tmp)\n",
    "    tmp_time=end_time\n",
    "    start_time=tmp_time\n",
    "    end_time=start_time+dt.timedelta(days=30)\n",
    "    if end_time>=dt.datetime(2023,5,31,23,0):\n",
    "        end_time=dt.datetime(2023,5,31,23,0)\n",
    "        tm1 = start_time.strftime('%Y%m%d%H%M')\n",
    "        tm2 = end_time.strftime('%Y%m%d%H%M')\n",
    "        para = {\n",
    "        'tm1' : tm1, 'tm2': tm2, 'stn':0, 'help': 0, 'authKey':key\n",
    "        }\n",
    "    \n",
    "        r=requests.get(url, params=para)\n",
    "    \n",
    "        # \\n으로 리스트 만들기\n",
    "        list_n = r.text.split('\\n')\n",
    "        \n",
    "        # 필요 없는 행을 제외한 데이터 부분\n",
    "        data_n=list_n[4:-2]\n",
    "        \n",
    "        for i, v in enumerate(data_n):\n",
    "            tmp=data_n[i].split()\n",
    "            raw_data.append(tmp)\n",
    "        break"
   ]
  },
  {
   "cell_type": "code",
   "execution_count": 6,
   "id": "d7e0edf0-a3b1-4805-a90d-577fc2d4f6cd",
   "metadata": {},
   "outputs": [
    {
     "data": {
      "text/plain": [
       "2859610"
      ]
     },
     "execution_count": 6,
     "metadata": {},
     "output_type": "execute_result"
    }
   ],
   "source": [
    "len(raw_data)"
   ]
  },
  {
   "cell_type": "code",
   "execution_count": 7,
   "id": "17bc80ca-c9a5-4c50-acca-9710a81aef01",
   "metadata": {},
   "outputs": [
    {
     "name": "stdout",
     "output_type": "stream",
     "text": [
      "['202001010000', '90', '18', '3.1', '-9', '-9.0', '-9', '1025.2', '1027.5', '8', '-0.3', '-2.6', '-17.8', '30.0', '1.5', '-9.0', '-9.0', '-9.0', '-9.0', '-9.0', '-9.0', '-9.0', '-9', '-9', '-', '1', '0', '-9', '-', '-9', '-9', '-9', '2000', '-9.0', '-9.00', '-9', '-2.6', '-99.0', '-99.0', '-99.0', '-99.0', '-9', '-9.0', '-9', '3', '-9']\n",
      "['202305312300', '296', '7', '1.9', '-9', '-9.0', '-9', '1012.3', '1012.7', '-9', '-9.0', '15.9', '10.6', '71.0', '12.8', '-9.0', '-9.0', '-9.0', '-9.0', '-9.0', '-9.0', '-9.0', '-9', '-9', '-', '5', '0', '-9', '-', '-9', '-9', '-9', '2000', '-9.0', '-9.00', '-9', '14.9', '-99.0', '-99.0', '-99.0', '-99.0', '-9', '-9.0', '-9', '3', '2']\n"
     ]
    }
   ],
   "source": [
    "print(raw_data[0])\n",
    "print(raw_data[-1])"
   ]
  },
  {
   "cell_type": "code",
   "execution_count": 8,
   "id": "53254045-bcaf-493d-bb58-d3fea6f8edb0",
   "metadata": {
    "scrolled": true
   },
   "outputs": [],
   "source": [
    "df=pd.DataFrame(raw_data,columns=columns)"
   ]
  },
  {
   "cell_type": "code",
   "execution_count": 9,
   "id": "762b5952-335d-46c1-bcd5-2134855539a3",
   "metadata": {},
   "outputs": [],
   "source": [
    "df.to_csv('kma.csv', index=False)"
   ]
  }
 ],
 "metadata": {
  "kernelspec": {
   "display_name": "Python 3 (ipykernel)",
   "language": "python",
   "name": "python3"
  },
  "language_info": {
   "codemirror_mode": {
    "name": "ipython",
    "version": 3
   },
   "file_extension": ".py",
   "mimetype": "text/x-python",
   "name": "python",
   "nbconvert_exporter": "python",
   "pygments_lexer": "ipython3",
   "version": "3.11.7"
  }
 },
 "nbformat": 4,
 "nbformat_minor": 5
}
